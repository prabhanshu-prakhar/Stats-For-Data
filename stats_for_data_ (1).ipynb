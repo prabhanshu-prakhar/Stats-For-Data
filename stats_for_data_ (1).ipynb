{
  "cells": [
    {
      "cell_type": "code",
      "execution_count": null,
      "id": "e0ba6844",
      "metadata": {
        "id": "e0ba6844"
      },
      "outputs": [],
      "source": []
    },
    {
      "cell_type": "markdown",
      "source": [
        "Here is the Stats for Data Science"
      ],
      "metadata": {
        "id": "GJavK-cCND-2"
      },
      "id": "GJavK-cCND-2"
    },
    {
      "cell_type": "markdown",
      "source": [],
      "metadata": {
        "id": "Tj2uL2yiNOUX"
      },
      "id": "Tj2uL2yiNOUX"
    },
    {
      "cell_type": "code",
      "source": [
        "age = [23,23,24,25,26,56,34,35,19,1,134,34]"
      ],
      "metadata": {
        "id": "_uain3N3NAk-"
      },
      "id": "_uain3N3NAk-",
      "execution_count": null,
      "outputs": []
    },
    {
      "cell_type": "code",
      "execution_count": null,
      "id": "c0b9bfd2",
      "metadata": {
        "id": "c0b9bfd2"
      },
      "outputs": [],
      "source": [
        "import numpy as  np\n",
        "import statistics"
      ]
    },
    {
      "cell_type": "code",
      "execution_count": null,
      "id": "a34d0848",
      "metadata": {
        "id": "a34d0848",
        "outputId": "4f0f518a-9d8f-4a7a-d1fb-f3d3da8bb4b8"
      },
      "outputs": [
        {
          "name": "stdout",
          "output_type": "stream",
          "text": [
            "69.5\n"
          ]
        }
      ],
      "source": [
        "print(np.mean(age))"
      ]
    },
    {
      "cell_type": "code",
      "execution_count": null,
      "id": "b44b98e4",
      "metadata": {
        "id": "b44b98e4",
        "outputId": "e0653ced-af14-44b8-ccc4-49759d0cfa90"
      },
      "outputs": [
        {
          "name": "stdout",
          "output_type": "stream",
          "text": [
            "25.5\n"
          ]
        }
      ],
      "source": [
        "print(np.median(age))\n"
      ]
    },
    {
      "cell_type": "code",
      "execution_count": null,
      "id": "f30c30ac",
      "metadata": {
        "id": "f30c30ac",
        "outputId": "d10808ef-86ce-4633-cb4c-b4e34cbf5dc9"
      },
      "outputs": [
        {
          "name": "stdout",
          "output_type": "stream",
          "text": [
            "69.5\n"
          ]
        }
      ],
      "source": [
        "print(statistics.mean(age))\n",
        "import seaborn as sns"
      ]
    },
    {
      "cell_type": "code",
      "execution_count": null,
      "id": "d381f1c3",
      "metadata": {
        "id": "d381f1c3",
        "outputId": "af0227d7-26a2-487b-8b70-806d7a512f1b"
      },
      "outputs": [
        {
          "data": {
            "text/plain": [
              "23"
            ]
          },
          "execution_count": 16,
          "metadata": {},
          "output_type": "execute_result"
        }
      ],
      "source": [
        "statistics.mode(age)"
      ]
    },
    {
      "cell_type": "code",
      "execution_count": null,
      "id": "4c801c51",
      "metadata": {
        "id": "4c801c51",
        "outputId": "ea18ca76-540f-4cb9-8f96-c8549f2a26d2"
      },
      "outputs": [
        {
          "name": "stderr",
          "output_type": "stream",
          "text": [
            "C:\\Users\\prabh\\anaconda3\\lib\\site-packages\\seaborn\\_decorators.py:36: FutureWarning: Pass the following variable as a keyword arg: x. From version 0.12, the only valid positional argument will be `data`, and passing other arguments without an explicit keyword will result in an error or misinterpretation.\n",
            "  warnings.warn(\n"
          ]
        },
        {
          "data": {
            "text/plain": [
              "<AxesSubplot:>"
            ]
          },
          "execution_count": 20,
          "metadata": {},
          "output_type": "execute_result"
        },
        {
          "data": {
            "image/png": "[encoded data removed]",
            "text/plain": [
              "<Figure size 432x288 with 1 Axes>"
            ]
          },
          "metadata": {
            "needs_background": "light"
          },
          "output_type": "display_data"
        }
      ],
      "source": [
        "sns.boxplot(age)"
      ]
    },
    {
      "cell_type": "code",
      "execution_count": null,
      "id": "a99b444f",
      "metadata": {
        "id": "a99b444f"
      },
      "outputs": [],
      "source": [
        "q1,q3 = np.percentile(age,[25,75])"
      ]
    },
    {
      "cell_type": "code",
      "execution_count": null,
      "id": "d37c8e41",
      "metadata": {
        "id": "d37c8e41",
        "outputId": "5d5714dd-17b8-4f43-9e34-45ebf0f9fb31"
      },
      "outputs": [
        {
          "data": {
            "text/plain": [
              "23.0"
            ]
          },
          "execution_count": 22,
          "metadata": {},
          "output_type": "execute_result"
        }
      ],
      "source": [
        "q1"
      ]
    },
    {
      "cell_type": "code",
      "execution_count": null,
      "id": "90f18fc9",
      "metadata": {
        "id": "90f18fc9",
        "outputId": "828fd919-9843-42f1-f03f-a766709f3c3f"
      },
      "outputs": [
        {
          "data": {
            "text/plain": [
              "34.25"
            ]
          },
          "execution_count": 23,
          "metadata": {},
          "output_type": "execute_result"
        }
      ],
      "source": [
        "q3"
      ]
    },
    {
      "cell_type": "code",
      "execution_count": null,
      "id": "c58fbe52",
      "metadata": {
        "id": "c58fbe52",
        "outputId": "64e5a6d2-3bdb-47e0-d723-de94abe5e130"
      },
      "outputs": [
        {
          "data": {
            "text/plain": [
              "11.25"
            ]
          },
          "execution_count": 25,
          "metadata": {},
          "output_type": "execute_result"
        }
      ],
      "source": [
        "iqr = q3-q1\n",
        "iqr"
      ]
    },
    {
      "cell_type": "code",
      "execution_count": null,
      "id": "5a50c945",
      "metadata": {
        "id": "5a50c945",
        "outputId": "ac5d892b-c1fc-43fa-e923-b05e5a7eb8d5"
      },
      "outputs": [
        {
          "data": {
            "text/plain": [
              "6.125"
            ]
          },
          "execution_count": 26,
          "metadata": {},
          "output_type": "execute_result"
        }
      ],
      "source": [
        "l = q1-1.5*iqr\n",
        "l"
      ]
    },
    {
      "cell_type": "code",
      "execution_count": null,
      "id": "ec91ca19",
      "metadata": {
        "id": "ec91ca19",
        "outputId": "4d92bd39-ee12-4b94-e532-8802dee76f0f"
      },
      "outputs": [
        {
          "data": {
            "text/plain": [
              "17.375"
            ]
          },
          "execution_count": 27,
          "metadata": {},
          "output_type": "execute_result"
        }
      ],
      "source": [
        "h = q3-1.5*iqr\n",
        "h"
      ]
    },
    {
      "cell_type": "code",
      "execution_count": null,
      "id": "12247271",
      "metadata": {
        "id": "12247271"
      },
      "outputs": [],
      "source": [
        "import math"
      ]
    },
    {
      "cell_type": "code",
      "execution_count": null,
      "id": "b1fa4507",
      "metadata": {
        "id": "b1fa4507",
        "outputId": "6a8dee7f-b2d0-4f9b-c69e-ff5989de4775"
      },
      "outputs": [
        {
          "data": {
            "text/plain": [
              "31.923954781462918"
            ]
          },
          "execution_count": 30,
          "metadata": {},
          "output_type": "execute_result"
        }
      ],
      "source": [
        "math.sqrt(statistics.pvariance(age))"
      ]
    },
    {
      "cell_type": "markdown",
      "id": "f0e12bb2",
      "metadata": {
        "id": "f0e12bb2"
      },
      "source": [
        "# histograms and pdf\n"
      ]
    },
    {
      "cell_type": "code",
      "execution_count": null,
      "id": "777e51ad",
      "metadata": {
        "colab": {
          "base_uri": "https://localhost:8080/",
          "height": 447
        },
        "id": "777e51ad",
        "outputId": "f557920f-82b7-4aee-8361-46d1bcb0b00c"
      },
      "outputs": [
        {
          "output_type": "execute_result",
          "data": {
            "text/plain": [
              "<Axes: ylabel='Count'>"
            ]
          },
          "metadata": {},
          "execution_count": 3
        },
        {
          "output_type": "display_data",
          "data": {
            "text/plain": [
              "<Figure size 640x480 with 1 Axes>"
            ],
            "image/png": "[encoded data removed]"
          },
          "metadata": {}
        }
      ],
      "source": [
        "import seaborn as sns\n",
        "sns.histplot(age, kde = True)"
      ]
    },
    {
      "cell_type": "code",
      "source": [
        "df = sns.load_dataset('iris')"
      ],
      "metadata": {
        "id": "_iymhQnpS4VN"
      },
      "id": "_iymhQnpS4VN",
      "execution_count": null,
      "outputs": []
    },
    {
      "cell_type": "code",
      "source": [
        "df.head()"
      ],
      "metadata": {
        "colab": {
          "base_uri": "https://localhost:8080/",
          "height": 206
        },
        "id": "Tua9kiGeS4ef",
        "outputId": "9dae2d50-bf69-4517-96b2-9b750736d904"
      },
      "id": "Tua9kiGeS4ef",
      "execution_count": null,
      "outputs": [
        {
          "output_type": "execute_result",
          "data": {
            "text/plain": [
              "   sepal_length  sepal_width  petal_length  petal_width species\n",
              "0           5.1          3.5           1.4          0.2  setosa\n",
              "1           4.9          3.0           1.4          0.2  setosa\n",
              "2           4.7          3.2           1.3          0.2  setosa\n",
              "3           4.6          3.1           1.5          0.2  setosa\n",
              "4           5.0          3.6           1.4          0.2  setosa"
            ],
            "text/html": [
              "\n",
              "  <div id=\"df-9cfdf56f-1928-405b-a601-a0ce642f3107\" class=\"colab-df-container\">\n",
              "    <div>\n",
              "<style scoped>\n",
              "    .dataframe tbody tr th:only-of-type {\n",
              "        vertical-align: middle;\n",
              "    }\n",
              "\n",
              "    .dataframe tbody tr th {\n",
              "        vertical-align: top;\n",
              "    }\n",
              "\n",
              "    .dataframe thead th {\n",
              "        text-align: right;\n",
              "    }\n",
              "</style>\n",
              "<table border=\"1\" class=\"dataframe\">\n",
              "  <thead>\n",
              "    <tr style=\"text-align: right;\">\n",
              "      <th></th>\n",
              "      <th>sepal_length</th>\n",
              "      <th>sepal_width</th>\n",
              "      <th>petal_length</th>\n",
              "      <th>petal_width</th>\n",
              "      <th>species</th>\n",
              "    </tr>\n",
              "  </thead>\n",
              "  <tbody>\n",
              "    <tr>\n",
              "      <th>0</th>\n",
              "      <td>5.1</td>\n",
              "      <td>3.5</td>\n",
              "      <td>1.4</td>\n",
              "      <td>0.2</td>\n",
              "      <td>setosa</td>\n",
              "    </tr>\n",
              "    <tr>\n",
              "      <th>1</th>\n",
              "      <td>4.9</td>\n",
              "      <td>3.0</td>\n",
              "      <td>1.4</td>\n",
              "      <td>0.2</td>\n",
              "      <td>setosa</td>\n",
              "    </tr>\n",
              "    <tr>\n",
              "      <th>2</th>\n",
              "      <td>4.7</td>\n",
              "      <td>3.2</td>\n",
              "      <td>1.3</td>\n",
              "      <td>0.2</td>\n",
              "      <td>setosa</td>\n",
              "    </tr>\n",
              "    <tr>\n",
              "      <th>3</th>\n",
              "      <td>4.6</td>\n",
              "      <td>3.1</td>\n",
              "      <td>1.5</td>\n",
              "      <td>0.2</td>\n",
              "      <td>setosa</td>\n",
              "    </tr>\n",
              "    <tr>\n",
              "      <th>4</th>\n",
              "      <td>5.0</td>\n",
              "      <td>3.6</td>\n",
              "      <td>1.4</td>\n",
              "      <td>0.2</td>\n",
              "      <td>setosa</td>\n",
              "    </tr>\n",
              "  </tbody>\n",
              "</table>\n",
              "</div>\n",
              "    <div class=\"colab-df-buttons\">\n",
              "\n",
              "  <div class=\"colab-df-container\">\n",
              "    <button class=\"colab-df-convert\" onclick=\"convertToInteractive('df-9cfdf56f-1928-405b-a601-a0ce642f3107')\"\n",
              "            title=\"Convert this dataframe to an interactive table.\"\n",
              "            style=\"display:none;\">\n",
              "\n",
              "  <svg xmlns=\"http://www.w3.org/2000/svg\" height=\"24px\" viewBox=\"0 -960 960 960\">\n",
              "    <path d=\"M120-120v-720h720v720H120Zm60-500h600v-160H180v160Zm220 220h160v-160H400v160Zm0 220h160v-160H400v160ZM180-400h160v-160H180v160Zm440 0h160v-160H620v160ZM180-180h160v-160H180v160Zm440 0h160v-160H620v160Z\"/>\n",
              "  </svg>\n",
              "    </button>\n",
              "\n",
              "  <style>\n",
              "    .colab-df-container {\n",
              "      display:flex;\n",
              "      gap: 12px;\n",
              "    }\n",
              "\n",
              "    .colab-df-convert {\n",
              "      background-color: #E8F0FE;\n",
              "      border: none;\n",
              "      border-radius: 50%;\n",
              "      cursor: pointer;\n",
              "      display: none;\n",
              "      fill: #1967D2;\n",
              "      height: 32px;\n",
              "      padding: 0 0 0 0;\n",
              "      width: 32px;\n",
              "    }\n",
              "\n",
              "    .colab-df-convert:hover {\n",
              "      background-color: #E2EBFA;\n",
              "      box-shadow: 0px 1px 2px rgba(60, 64, 67, 0.3), 0px 1px 3px 1px rgba(60, 64, 67, 0.15);\n",
              "      fill: #174EA6;\n",
              "    }\n",
              "\n",
              "    .colab-df-buttons div {\n",
              "      margin-bottom: 4px;\n",
              "    }\n",
              "\n",
              "    [theme=dark] .colab-df-convert {\n",
              "      background-color: #3B4455;\n",
              "      fill: #D2E3FC;\n",
              "    }\n",
              "\n",
              "    [theme=dark] .colab-df-convert:hover {\n",
              "      background-color: #434B5C;\n",
              "      box-shadow: 0px 1px 3px 1px rgba(0, 0, 0, 0.15);\n",
              "      filter: drop-shadow(0px 1px 2px rgba(0, 0, 0, 0.3));\n",
              "      fill: #FFFFFF;\n",
              "    }\n",
              "  </style>\n",
              "\n",
              "    <script>\n",
              "      const buttonEl =\n",
              "        document.querySelector('#df-9cfdf56f-1928-405b-a601-a0ce642f3107 button.colab-df-convert');\n",
              "      buttonEl.style.display =\n",
              "        google.colab.kernel.accessAllowed ? 'block' : 'none';\n",
              "\n",
              "      async function convertToInteractive(key) {\n",
              "        const element = document.querySelector('#df-9cfdf56f-1928-405b-a601-a0ce642f3107');\n",
              "        const dataTable =\n",
              "          await google.colab.kernel.invokeFunction('convertToInteractive',\n",
              "                                                    [key], {});\n",
              "        if (!dataTable) return;\n",
              "\n",
              "        const docLinkHtml = 'Like what you see? Visit the ' +\n",
              "          '<a target=\"_blank\" href=https://colab.research.google.com/notebooks/data_table.ipynb>data table notebook</a>'\n",
              "          + ' to learn more about interactive tables.';\n",
              "        element.innerHTML = '';\n",
              "        dataTable['output_type'] = 'display_data';\n",
              "        await google.colab.output.renderOutput(dataTable, element);\n",
              "        const docLink = document.createElement('div');\n",
              "        docLink.innerHTML = docLinkHtml;\n",
              "        element.appendChild(docLink);\n",
              "      }\n",
              "    </script>\n",
              "  </div>\n",
              "\n",
              "\n",
              "<div id=\"df-6fb31deb-d6ae-469d-9a1e-b80d598cfa48\">\n",
              "  <button class=\"colab-df-quickchart\" onclick=\"quickchart('df-6fb31deb-d6ae-469d-9a1e-b80d598cfa48')\"\n",
              "            title=\"Suggest charts\"\n",
              "            style=\"display:none;\">\n",
              "\n",
              "<svg xmlns=\"http://www.w3.org/2000/svg\" height=\"24px\"viewBox=\"0 0 24 24\"\n",
              "     width=\"24px\">\n",
              "    <g>\n",
              "        <path d=\"M19 3H5c-1.1 0-2 .9-2 2v14c0 1.1.9 2 2 2h14c1.1 0 2-.9 2-2V5c0-1.1-.9-2-2-2zM9 17H7v-7h2v7zm4 0h-2V7h2v10zm4 0h-2v-4h2v4z\"/>\n",
              "    </g>\n",
              "</svg>\n",
              "  </button>\n",
              "\n",
              "<style>\n",
              "  .colab-df-quickchart {\n",
              "      --bg-color: #E8F0FE;\n",
              "      --fill-color: #1967D2;\n",
              "      --hover-bg-color: #E2EBFA;\n",
              "      --hover-fill-color: #174EA6;\n",
              "      --disabled-fill-color: #AAA;\n",
              "      --disabled-bg-color: #DDD;\n",
              "  }\n",
              "\n",
              "  [theme=dark] .colab-df-quickchart {\n",
              "      --bg-color: #3B4455;\n",
              "      --fill-color: #D2E3FC;\n",
              "      --hover-bg-color: #434B5C;\n",
              "      --hover-fill-color: #FFFFFF;\n",
              "      --disabled-bg-color: #3B4455;\n",
              "      --disabled-fill-color: #666;\n",
              "  }\n",
              "\n",
              "  .colab-df-quickchart {\n",
              "    background-color: var(--bg-color);\n",
              "    border: none;\n",
              "    border-radius: 50%;\n",
              "    cursor: pointer;\n",
              "    display: none;\n",
              "    fill: var(--fill-color);\n",
              "    height: 32px;\n",
              "    padding: 0;\n",
              "    width: 32px;\n",
              "  }\n",
              "\n",
              "  .colab-df-quickchart:hover {\n",
              "    background-color: var(--hover-bg-color);\n",
              "    box-shadow: 0 1px 2px rgba(60, 64, 67, 0.3), 0 1px 3px 1px rgba(60, 64, 67, 0.15);\n",
              "    fill: var(--button-hover-fill-color);\n",
              "  }\n",
              "\n",
              "  .colab-df-quickchart-complete:disabled,\n",
              "  .colab-df-quickchart-complete:disabled:hover {\n",
              "    background-color: var(--disabled-bg-color);\n",
              "    fill: var(--disabled-fill-color);\n",
              "    box-shadow: none;\n",
              "  }\n",
              "\n",
              "  .colab-df-spinner {\n",
              "    border: 2px solid var(--fill-color);\n",
              "    border-color: transparent;\n",
              "    border-bottom-color: var(--fill-color);\n",
              "    animation:\n",
              "      spin 1s steps(1) infinite;\n",
              "  }\n",
              "\n",
              "  @keyframes spin {\n",
              "    0% {\n",
              "      border-color: transparent;\n",
              "      border-bottom-color: var(--fill-color);\n",
              "      border-left-color: var(--fill-color);\n",
              "    }\n",
              "    20% {\n",
              "      border-color: transparent;\n",
              "      border-left-color: var(--fill-color);\n",
              "      border-top-color: var(--fill-color);\n",
              "    }\n",
              "    30% {\n",
              "      border-color: transparent;\n",
              "      border-left-color: var(--fill-color);\n",
              "      border-top-color: var(--fill-color);\n",
              "      border-right-color: var(--fill-color);\n",
              "    }\n",
              "    40% {\n",
              "      border-color: transparent;\n",
              "      border-right-color: var(--fill-color);\n",
              "      border-top-color: var(--fill-color);\n",
              "    }\n",
              "    60% {\n",
              "      border-color: transparent;\n",
              "      border-right-color: var(--fill-color);\n",
              "    }\n",
              "    80% {\n",
              "      border-color: transparent;\n",
              "      border-right-color: var(--fill-color);\n",
              "      border-bottom-color: var(--fill-color);\n",
              "    }\n",
              "    90% {\n",
              "      border-color: transparent;\n",
              "      border-bottom-color: var(--fill-color);\n",
              "    }\n",
              "  }\n",
              "</style>\n",
              "\n",
              "  <script>\n",
              "    async function quickchart(key) {\n",
              "      const quickchartButtonEl =\n",
              "        document.querySelector('#' + key + ' button');\n",
              "      quickchartButtonEl.disabled = true;  // To prevent multiple clicks.\n",
              "      quickchartButtonEl.classList.add('colab-df-spinner');\n",
              "      try {\n",
              "        const charts = await google.colab.kernel.invokeFunction(\n",
              "            'suggestCharts', [key], {});\n",
              "      } catch (error) {\n",
              "        console.error('Error during call to suggestCharts:', error);\n",
              "      }\n",
              "      quickchartButtonEl.classList.remove('colab-df-spinner');\n",
              "      quickchartButtonEl.classList.add('colab-df-quickchart-complete');\n",
              "    }\n",
              "    (() => {\n",
              "      let quickchartButtonEl =\n",
              "        document.querySelector('#df-6fb31deb-d6ae-469d-9a1e-b80d598cfa48 button');\n",
              "      quickchartButtonEl.style.display =\n",
              "        google.colab.kernel.accessAllowed ? 'block' : 'none';\n",
              "    })();\n",
              "  </script>\n",
              "</div>\n",
              "\n",
              "    </div>\n",
              "  </div>\n"
            ],
            "application/vnd.google.colaboratory.intrinsic+json": {
              "type": "dataframe",
              "variable_name": "df",
              "summary": "{\n  \"name\": \"df\",\n  \"rows\": 150,\n  \"fields\": [\n    {\n      \"column\": \"sepal_length\",\n      \"properties\": {\n        \"dtype\": \"number\",\n        \"std\": 0.828066127977863,\n        \"min\": 4.3,\n        \"max\": 7.9,\n        \"num_unique_values\": 35,\n        \"samples\": [\n          6.2,\n          4.5,\n          5.6\n        ],\n        \"semantic_type\": \"\",\n        \"description\": \"\"\n      }\n    },\n    {\n      \"column\": \"sepal_width\",\n      \"properties\": {\n        \"dtype\": \"number\",\n        \"std\": 0.4358662849366982,\n        \"min\": 2.0,\n        \"max\": 4.4,\n        \"num_unique_values\": 23,\n        \"samples\": [\n          2.3,\n          4.0,\n          3.5\n        ],\n        \"semantic_type\": \"\",\n        \"description\": \"\"\n      }\n    },\n    {\n      \"column\": \"petal_length\",\n      \"properties\": {\n        \"dtype\": \"number\",\n        \"std\": 1.7652982332594662,\n        \"min\": 1.0,\n        \"max\": 6.9,\n        \"num_unique_values\": 43,\n        \"samples\": [\n          6.7,\n          3.8,\n          3.7\n        ],\n        \"semantic_type\": \"\",\n        \"description\": \"\"\n      }\n    },\n    {\n      \"column\": \"petal_width\",\n      \"properties\": {\n        \"dtype\": \"number\",\n        \"std\": 0.7622376689603465,\n        \"min\": 0.1,\n        \"max\": 2.5,\n        \"num_unique_values\": 22,\n        \"samples\": [\n          0.2,\n          1.2,\n          1.3\n        ],\n        \"semantic_type\": \"\",\n        \"description\": \"\"\n      }\n    },\n    {\n      \"column\": \"species\",\n      \"properties\": {\n        \"dtype\": \"category\",\n        \"num_unique_values\": 3,\n        \"samples\": [\n          \"setosa\",\n          \"versicolor\",\n          \"virginica\"\n        ],\n        \"semantic_type\": \"\",\n        \"description\": \"\"\n      }\n    }\n  ]\n}"
            }
          },
          "metadata": {},
          "execution_count": 5
        }
      ]
    },
    {
      "cell_type": "code",
      "source": [
        "sns.histplot(df['sepal_width'], kde = True)"
      ],
      "metadata": {
        "colab": {
          "base_uri": "https://localhost:8080/",
          "height": 467
        },
        "id": "gepwwSZfTkG1",
        "outputId": "ec3924a3-66af-41ea-87c1-e9b4bf78bfde"
      },
      "id": "gepwwSZfTkG1",
      "execution_count": null,
      "outputs": [
        {
          "output_type": "execute_result",
          "data": {
            "text/plain": [
              "<Axes: xlabel='sepal_width', ylabel='Count'>"
            ]
          },
          "metadata": {},
          "execution_count": 7
        },
        {
          "output_type": "display_data",
          "data": {
            "text/plain": [
              "<Figure size 640x480 with 1 Axes>"
            ],
            "image/png": "[encoded data removed]"
          },
          "metadata": {}
        }
      ]
    },
    {
      "cell_type": "code",
      "source": [
        "sns.boxplot(df['sepal_width'])"
      ],
      "metadata": {
        "colab": {
          "base_uri": "https://localhost:8080/",
          "height": 431
        },
        "id": "CD_W6i_9T0K2",
        "outputId": "e5c4827b-389f-4d73-a144-b01c256ae7c6"
      },
      "id": "CD_W6i_9T0K2",
      "execution_count": null,
      "outputs": [
        {
          "output_type": "execute_result",
          "data": {
            "text/plain": [
              "<Axes: ylabel='sepal_width'>"
            ]
          },
          "metadata": {},
          "execution_count": 8
        },
        {
          "output_type": "display_data",
          "data": {
            "text/plain": [
              "<Figure size 640x480 with 1 Axes>"
            ],
            "image/png": "[encoded data removed]"
          },
          "metadata": {}
        }
      ]
    },
    {
      "cell_type": "code",
      "source": [
        "import numpy as np\n"
      ],
      "metadata": {
        "id": "i8ColtAKT0kc"
      },
      "id": "i8ColtAKT0kc",
      "execution_count": null,
      "outputs": []
    },
    {
      "cell_type": "code",
      "source": [
        "q1,q3 = np.percentile(df['sepal_width'],(25,75))"
      ],
      "metadata": {
        "id": "6cboIOB-T-TA"
      },
      "id": "6cboIOB-T-TA",
      "execution_count": null,
      "outputs": []
    },
    {
      "cell_type": "code",
      "source": [
        "q1, q3"
      ],
      "metadata": {
        "colab": {
          "base_uri": "https://localhost:8080/"
        },
        "id": "eLCP-BDNT-e-",
        "outputId": "73f1d647-7838-4c4b-dff4-64947499a16a"
      },
      "id": "eLCP-BDNT-e-",
      "execution_count": null,
      "outputs": [
        {
          "output_type": "execute_result",
          "data": {
            "text/plain": [
              "(2.8, 3.3)"
            ]
          },
          "metadata": {},
          "execution_count": 11
        }
      ]
    },
    {
      "cell_type": "code",
      "source": [
        "iqr = q3-q1\n",
        "iqr"
      ],
      "metadata": {
        "colab": {
          "base_uri": "https://localhost:8080/"
        },
        "id": "7unkupoFUNHx",
        "outputId": "6e5d2837-2a58-4541-d675-0354ed9d3186"
      },
      "id": "7unkupoFUNHx",
      "execution_count": null,
      "outputs": [
        {
          "output_type": "execute_result",
          "data": {
            "text/plain": [
              "0.5"
            ]
          },
          "metadata": {},
          "execution_count": 12
        }
      ]
    },
    {
      "cell_type": "code",
      "source": [
        "l = q1-1.5*iqr\n",
        "h = q3-1.5*iqr\n",
        "l\n",
        "h"
      ],
      "metadata": {
        "colab": {
          "base_uri": "https://localhost:8080/"
        },
        "id": "AH8CoX1aUNRH",
        "outputId": "a69272f4-0ea5-4fa2-c5f9-be72a77d52b1"
      },
      "id": "AH8CoX1aUNRH",
      "execution_count": null,
      "outputs": [
        {
          "output_type": "execute_result",
          "data": {
            "text/plain": [
              "2.55"
            ]
          },
          "metadata": {},
          "execution_count": 13
        }
      ]
    },
    {
      "cell_type": "code",
      "source": [
        "l"
      ],
      "metadata": {
        "colab": {
          "base_uri": "https://localhost:8080/"
        },
        "id": "jh4gL0cOUNZ4",
        "outputId": "cbce957a-437e-4239-dad0-4d6dcc1b6d64"
      },
      "id": "jh4gL0cOUNZ4",
      "execution_count": null,
      "outputs": [
        {
          "output_type": "execute_result",
          "data": {
            "text/plain": [
              "2.05"
            ]
          },
          "metadata": {},
          "execution_count": 15
        }
      ]
    },
    {
      "cell_type": "code",
      "source": [
        "##to create a normal distributed data"
      ],
      "metadata": {
        "id": "-E2vRYzlUNhl"
      },
      "id": "-E2vRYzlUNhl",
      "execution_count": null,
      "outputs": []
    },
    {
      "cell_type": "code",
      "source": [
        "s = np.random.normal(0.5,0.2, 1000)\n",
        "s"
      ],
      "metadata": {
        "colab": {
          "base_uri": "https://localhost:8080/"
        },
        "id": "T9WUvvrhUNoo",
        "outputId": "74af9813-8df8-49f9-a2ca-b09f6ce95d8d"
      },
      "id": "T9WUvvrhUNoo",
      "execution_count": null,
      "outputs": [
        {
          "output_type": "execute_result",
          "data": {
            "text/plain": [
              "array([ 0.69095212,  0.22226428,  0.09893986,  0.61350521,  0.96374355,\n",
              "        0.83388223,  0.34321542,  0.45513072,  0.66144357,  0.28863822,\n",
              "        0.75599922,  0.44496636,  0.50906301,  0.67565202,  0.4715153 ,\n",
              "        0.54174097,  0.12310836,  0.44386354,  0.74658769,  0.51475748,\n",
              "        0.84999904,  0.4623641 ,  0.50026635,  0.05023988,  0.74608915,\n",
              "        0.22349303,  0.89419487,  0.77088187,  0.41834604,  0.55284187,\n",
              "        0.17391906,  0.20494418,  0.45135311,  0.4457295 ,  0.47673952,\n",
              "        0.39403569,  0.51579444,  0.14329398,  0.24293478,  0.3063699 ,\n",
              "        0.47036025,  0.58389879,  0.37404009, -0.00209447,  0.51885805,\n",
              "        0.41976806,  0.43120062,  0.66181355,  0.72284097,  0.09829583,\n",
              "        0.67488633,  0.50061424,  0.39964862,  0.54207446,  0.55077243,\n",
              "        0.45863447,  0.09656933,  0.48098422,  0.40615814,  0.38167159,\n",
              "        0.56928664,  0.50292627,  0.68826713,  0.50793224,  0.72127941,\n",
              "        0.36772675,  0.66058882,  0.49069447,  0.13280298,  0.82179255,\n",
              "        0.11454957,  0.61554295,  0.33677741,  0.45985097,  0.35468002,\n",
              "        0.3615988 ,  0.39932406,  0.56160993,  0.35652041,  0.45658768,\n",
              "        0.78519112,  0.35393881,  0.67552033,  0.39566542,  0.28862276,\n",
              "        0.4565454 ,  0.30324546,  0.31853646, -0.04372959,  0.09004737,\n",
              "        0.49483152,  0.60894781,  0.28728031,  0.82016227,  0.64356692,\n",
              "        0.25228889,  0.61173978,  0.63441388,  0.19847631,  0.32656665,\n",
              "        0.25368219,  0.34636935,  0.55955648,  0.167676  ,  0.21953924,\n",
              "        0.9537611 ,  0.74720505,  0.62291227,  0.41310153,  0.5414003 ,\n",
              "        0.32667603,  0.19716628,  0.54075033,  0.44477478,  0.40330963,\n",
              "        0.6271073 ,  0.29160711,  0.43460966,  0.34096665,  0.68124839,\n",
              "        0.61699699,  0.48011488,  0.74480908,  0.28049156,  0.55750591,\n",
              "        0.21936259,  0.50372498,  0.55840761,  0.46566968,  0.71752854,\n",
              "        0.39230606,  0.86806633,  0.88771896,  0.52978276,  0.6449798 ,\n",
              "        0.57567748,  0.58337079,  0.22864096,  0.38331393,  0.41429782,\n",
              "        0.41747363,  0.48254482,  0.30987277,  0.59306376,  0.68003115,\n",
              "        0.69729953,  0.58459345,  0.45824618,  0.55424834,  0.61846071,\n",
              "        0.51344364,  0.80808036,  0.62702749,  0.92179399,  0.65734414,\n",
              "        0.6507    ,  0.41302103,  0.55322701,  0.61110543,  0.31113446,\n",
              "        0.467162  ,  0.51911663,  0.77205291,  0.42411798,  0.51012205,\n",
              "        0.56377458,  0.810331  ,  0.56664316,  0.82541753,  0.69429948,\n",
              "        0.58594727,  0.41890016,  0.16473493,  0.22670514,  0.77533468,\n",
              "        0.6549731 ,  0.68541334,  0.58239272,  0.75721386,  0.85485912,\n",
              "        0.16302634,  0.15150274,  0.38309774,  0.48288445,  0.45688824,\n",
              "        0.5500515 ,  0.62990743,  0.26478616,  0.43236967,  0.34490501,\n",
              "        0.60091316,  0.39571511,  0.54883559,  0.54878336,  0.99380122,\n",
              "        0.26135413,  0.75726137,  0.67728179,  0.62664996,  0.64962901,\n",
              "        0.34128919,  0.21391378,  0.00945143,  0.33048712,  0.19487911,\n",
              "        0.3778862 ,  0.31101359,  0.80596901,  0.42723402,  0.32578126,\n",
              "        0.58156196,  0.19104555,  0.70893386,  0.53230145,  0.42597595,\n",
              "        0.62611033,  0.7025913 ,  0.22341398,  0.30735566,  0.4776227 ,\n",
              "        0.73854247,  0.1553594 ,  0.45146038,  0.70826071,  0.17653171,\n",
              "        0.38256874,  0.91787591,  0.82410285,  0.32458145,  0.3886834 ,\n",
              "        0.27493137,  0.19854126,  0.80271119,  0.53537993,  0.33424198,\n",
              "        0.25192895,  0.59946582,  0.72135392,  0.29244261,  0.5430713 ,\n",
              "        0.72596429,  0.56494459,  0.80663286,  0.26845411,  0.3692443 ,\n",
              "        0.67866992,  0.99814778,  0.52309822,  0.01944571,  0.65447365,\n",
              "        0.44249865,  0.45318808,  0.13422616,  0.37509748,  0.70401449,\n",
              "        0.56661612, -0.00259386,  0.71507863,  0.22161388,  0.29697257,\n",
              "        0.21475777,  0.62519423,  0.22767074,  0.362069  ,  0.77003752,\n",
              "        0.62560519,  0.53603385,  0.45366764,  0.1662527 ,  0.59780486,\n",
              "        0.53843271,  0.53996307,  0.10753482,  0.33117388,  0.51335949,\n",
              "        0.58819613,  0.48382133,  0.44493424,  0.26437276,  0.42863701,\n",
              "        0.45864305,  0.66906141,  0.31711709,  0.52944698,  0.53031279,\n",
              "        0.56056834,  0.31415956,  0.13975615,  0.32048126,  0.37607091,\n",
              "        0.26482681,  0.59820839,  0.6266935 ,  0.63327693,  0.0722072 ,\n",
              "        0.22901919,  0.37862196,  0.54438935,  0.24020709,  0.3483824 ,\n",
              "        0.45970552,  0.73759242,  0.77728259,  0.25035113,  0.38919868,\n",
              "        0.41887232,  0.16419431,  0.54391738,  0.61790127,  0.60216299,\n",
              "        0.3684945 ,  0.25982755,  0.72150959,  0.47761804,  0.57786688,\n",
              "        0.58449766,  0.35740573,  0.15088407,  0.47218868,  0.68568349,\n",
              "        0.5002045 ,  0.25047389,  0.40221063,  0.79979796,  0.69655217,\n",
              "        0.52301105,  0.52153778,  0.91920713,  0.71484601,  0.27426706,\n",
              "        0.44052453,  0.25560965,  0.92123498,  0.53025736,  0.44008683,\n",
              "        0.02912408,  0.54050282,  0.36294411,  0.37315804,  0.2806414 ,\n",
              "        0.4101933 ,  0.74829348,  0.68679233,  0.74338444,  0.51068428,\n",
              "        0.48033172,  0.49419416,  0.49430141,  0.69303087,  0.62036157,\n",
              "        0.21270828,  0.50874757,  0.53273423,  0.34690624,  0.75374353,\n",
              "        0.30527397,  0.70364504,  0.32583888,  0.21066765,  0.27418144,\n",
              "        0.23815873,  0.36523571,  0.87804784,  0.72945323,  0.61866456,\n",
              "        0.5808572 ,  0.65314835,  0.19222711, -0.14030311,  0.53228531,\n",
              "        0.53593026,  0.62693096,  0.17164072,  0.5878168 ,  0.56189016,\n",
              "        0.29918088,  0.53581948,  0.24629583,  0.34718903,  0.53345837,\n",
              "        0.42584002,  0.73505785,  0.77975401,  0.1904256 ,  0.92095875,\n",
              "        0.60329739,  0.18331357,  1.10293887,  0.45426034,  0.868886  ,\n",
              "        0.27018478,  0.64618274,  0.53208202,  0.49327804,  0.54118852,\n",
              "        0.30607488,  0.67447499,  0.496267  ,  0.5460397 ,  0.80522553,\n",
              "        0.72439044,  0.59786576,  0.60170928,  0.4989902 ,  0.39980447,\n",
              "        0.05775859,  0.54654224,  0.88107896,  0.65643486,  0.56006498,\n",
              "        0.88615055,  0.55661221,  0.53805687,  0.30506192,  0.40620422,\n",
              "        0.26167998,  0.36672708,  0.50899234,  0.46241979,  0.43931339,\n",
              "        0.09853215,  0.6049488 ,  0.59939305,  0.36058093,  0.40815165,\n",
              "        0.56754444,  0.30892061,  0.49914679,  0.28030482,  0.36178183,\n",
              "        0.26143546,  0.1796846 ,  0.79992535,  0.17621648,  0.48292185,\n",
              "        0.79212466,  0.39596024,  0.44031057,  0.1174745 ,  0.4956586 ,\n",
              "        0.21028835,  0.54096903,  0.56670405,  0.38898577,  0.54689194,\n",
              "        0.22536663,  0.24807204,  0.42103279,  0.59511966,  0.4568163 ,\n",
              "        0.40478605,  0.14900354,  0.44908441,  0.95482944,  0.36732886,\n",
              "        0.4780962 ,  0.80219559,  0.1870093 ,  0.82129146,  0.18979929,\n",
              "        0.83069252,  0.50493934,  0.16743413,  0.40662548,  0.22271119,\n",
              "        0.47743901,  0.75038383,  0.12189893,  0.6123257 ,  0.45667468,\n",
              "        1.09347522,  0.70193827,  0.53040006,  0.71297485,  0.24714435,\n",
              "        0.5453817 ,  0.83292388,  0.19660725,  0.62081385,  0.5013287 ,\n",
              "        0.67688401,  0.26026233,  0.4236683 ,  0.66040579,  0.68269322,\n",
              "        0.55619322,  0.36595506,  0.73106697,  0.25258034,  0.40838857,\n",
              "        0.30519527,  0.45874006,  0.54304939,  0.22982389,  0.87034307,\n",
              "        0.64868127,  0.75255102,  0.54277389,  0.3784018 ,  0.31302722,\n",
              "        0.184454  ,  0.57798833,  0.42774878,  0.63916079,  0.30261549,\n",
              "        0.42214909,  0.25259258,  0.58226048,  0.43777533,  0.39377987,\n",
              "        0.5019073 ,  0.32215563,  0.05700366,  0.74130647,  0.61904899,\n",
              "        0.14448254,  0.87215701,  0.42411812,  0.70881813,  0.53689595,\n",
              "        0.71384248,  0.57045221,  0.32468655,  0.19317529,  0.67195449,\n",
              "        0.2849649 ,  0.72117003,  0.73543784,  0.92618757,  0.24815141,\n",
              "        0.57697444,  0.50007308,  0.51298635,  0.3826407 ,  0.66911952,\n",
              "        0.33194788,  0.32310224,  0.55545634,  0.39130656,  0.5477798 ,\n",
              "        0.30681747,  0.44831899,  0.70717895,  0.38029634,  0.29914217,\n",
              "        0.79673949,  0.63654878,  0.13065215,  0.5657138 ,  0.5311321 ,\n",
              "        0.64034305,  0.52949591,  0.33482977,  0.20598739,  0.83822519,\n",
              "        0.54990209,  0.61697267,  0.41912283,  0.210585  ,  0.26777566,\n",
              "        0.76500607,  0.46841406,  0.31684689,  0.15708796,  0.22525501,\n",
              "        0.92046695,  0.65955287,  0.68387284,  0.73069583,  0.54408912,\n",
              "        0.6339564 ,  0.02090407,  0.49065303,  0.6828536 ,  0.45079979,\n",
              "        0.5425176 ,  0.30246127,  0.32447978,  0.39869061,  0.70971422,\n",
              "        0.30978785,  0.70025426,  0.41815037,  0.53149824,  0.07893512,\n",
              "        0.28805296,  0.34250975,  0.27160978,  0.24407013,  0.02062773,\n",
              "        0.57550174,  0.41033403,  0.63675202,  0.21766262,  0.52749004,\n",
              "        0.72491177,  0.44635445,  0.24707149,  0.51206667, -0.0017552 ,\n",
              "        0.85650903,  0.6464686 ,  0.65611602,  0.33744175,  0.536412  ,\n",
              "        0.38549652,  0.74193958,  0.45046195,  0.38047542,  0.4927892 ,\n",
              "        0.68235364,  0.42640388,  0.80251369,  0.33913963,  0.39458696,\n",
              "        0.3941541 ,  0.51077327,  0.46774388,  0.82112564,  0.66163215,\n",
              "        0.22658219,  0.33406283,  0.51499229,  0.7796305 ,  0.79514187,\n",
              "        0.7447343 ,  0.31807313,  0.31367675,  0.50121091,  0.39212665,\n",
              "        0.69311396,  0.3492272 ,  0.91062091,  0.71220604,  0.35962793,\n",
              "        0.44959174,  0.37175513,  0.54733365, -0.00733975,  0.63153888,\n",
              "        0.59442405,  0.49827558,  0.46878328,  0.49265417,  0.5261989 ,\n",
              "        0.52229113,  0.53610235,  0.59394661,  0.69521621,  0.29704074,\n",
              "        0.5466103 ,  0.32598947,  0.45007057,  0.33293198,  0.45084688,\n",
              "        0.4730476 ,  0.54556792,  0.3179052 ,  0.41334037,  0.77031234,\n",
              "        0.50291204,  0.70770393,  0.71972941,  0.509642  ,  0.76503808,\n",
              "        0.35660729,  0.71502559,  0.05333011,  0.3874362 ,  0.63637743,\n",
              "        0.47572168,  0.00768093,  0.6917689 ,  0.59303813,  0.6218861 ,\n",
              "        0.52363489,  0.74754595,  0.29477467,  0.53273752,  0.51104797,\n",
              "        0.34977542,  0.32847963,  0.61867114,  0.41817774,  0.43511147,\n",
              "        0.91277902,  0.18261848,  0.8740348 ,  0.92336179,  0.39949083,\n",
              "        0.29183933,  0.28929752,  0.09030175,  0.60848794,  0.4020285 ,\n",
              "        0.67072214,  0.1822655 ,  0.34168852,  0.57605963,  0.83126312,\n",
              "        0.38754572,  0.59814801,  0.48040001,  0.54476542,  0.14972472,\n",
              "        0.54110115,  0.26173522,  0.33858955,  0.42826913,  0.59600893,\n",
              "        0.56570044,  0.40673705,  0.91085068,  0.83398337,  0.54595555,\n",
              "        0.68134711,  0.16093533,  0.42312568,  0.64246041,  0.39426649,\n",
              "        0.55439636,  0.33797538,  0.44058159,  0.60347226,  0.27355707,\n",
              "        0.55845594,  0.46150298,  0.74412534,  0.03051039,  0.33464855,\n",
              "        0.24432874,  0.57026913,  0.68957738,  0.5135746 ,  0.72816527,\n",
              "        0.43627513,  0.3032316 ,  0.72707145,  0.86162387,  0.19166046,\n",
              "        0.52420173,  0.2205454 ,  0.55582137,  0.60445435,  0.7895566 ,\n",
              "        0.25459842,  0.30729186,  0.46472354,  0.80416498,  0.53352706,\n",
              "        0.68501088,  0.52182157,  0.79794209,  0.54075808,  0.66565328,\n",
              "        0.75633936,  0.48943616,  0.52874622,  0.09486145,  0.2362245 ,\n",
              "        0.48685895,  0.60815317,  0.66038422,  0.43475747,  0.2624365 ,\n",
              "        0.63181902,  0.73311138,  0.44888616,  0.48431238,  0.32064071,\n",
              "        0.59351697,  0.34414793,  0.29282605,  0.23208716,  0.57187465,\n",
              "        0.27654853,  0.47259801,  0.36181701,  0.25565223,  0.71405385,\n",
              "        0.83053538,  0.13507876,  0.60191668,  0.28613339,  0.57590607,\n",
              "        0.66095535,  0.20514086,  0.52053649,  0.65145918,  0.65636021,\n",
              "        0.49093978,  0.3799744 ,  0.5755767 ,  0.62165308,  0.13754235,\n",
              "        0.15924398,  0.56408845,  0.25323896,  0.55825834,  0.73635388,\n",
              "        0.3212795 ,  0.90408325,  0.41742201,  0.4475811 ,  0.62369928,\n",
              "        0.85847146,  0.53729015,  0.50826195,  0.42395756,  0.54283101,\n",
              "        0.77937948,  0.74915102,  0.3833992 ,  0.14244471,  0.41872171,\n",
              "        0.28916366,  0.18301896,  0.67255249,  0.77294284,  0.41568121,\n",
              "        0.39148612,  0.54978634,  0.59645165,  0.36956151,  0.24356252,\n",
              "        0.398474  ,  0.49746536,  0.59922177,  0.25547105,  0.41978479,\n",
              "        0.25374324,  0.34990803,  0.42202126,  0.20649186,  0.28353754,\n",
              "        0.43692719,  0.48567209,  0.41926762,  0.37532346,  0.41153608,\n",
              "        0.95585696,  0.37793362,  0.63110087,  0.44784924,  0.49239795,\n",
              "        0.6991744 ,  0.58717555,  0.66834877,  0.75671028,  0.35388385,\n",
              "        0.51992821,  0.64031868,  0.39532538,  0.58121789,  0.48390967,\n",
              "        0.58170399,  0.68964337,  0.54909011,  0.67972893,  0.64620164,\n",
              "        0.66116671,  0.56542612,  0.26691552,  0.58675258,  0.29357375,\n",
              "        0.33169989,  0.65057437,  0.49512777,  0.72855222,  0.60522899,\n",
              "        0.67981625,  0.2822038 ,  0.45829359,  0.54120904,  0.63734   ,\n",
              "        0.35037986,  0.47491409,  0.4768824 ,  0.53742883,  0.356971  ,\n",
              "        0.46589671,  0.5595751 ,  0.38732093,  0.61698369,  0.32190287,\n",
              "        0.38294163,  0.68512315,  0.8194528 ,  0.32574806,  0.52263994,\n",
              "        0.21467969,  0.25730121,  0.62404815,  0.66273058,  0.47851393,\n",
              "        0.32498857,  0.70571605,  0.28529391,  0.48485803,  0.47661781,\n",
              "        0.31370936,  0.45641728,  0.5873685 ,  0.74510232,  0.06307447,\n",
              "        0.53758321,  0.39035384,  0.29919344,  0.43896293,  0.68584817,\n",
              "        0.3724867 ,  0.21904933,  0.64867865,  0.33160069,  0.54223712,\n",
              "        0.30368663,  0.40511026,  0.4282939 ,  0.7587798 ,  0.07647517,\n",
              "        0.52766984,  0.63493486,  0.55301323,  0.4722119 ,  0.45303419,\n",
              "        0.46960553,  0.37854164,  0.36470472,  0.52683757,  0.76595235,\n",
              "        0.18900691,  0.69414224,  0.29957206,  0.53538123,  0.51298861,\n",
              "        0.66193156,  0.51386144,  0.24693021,  0.89380824,  0.48285331,\n",
              "        0.3349008 ,  0.60546506,  0.58620463,  0.45637248,  0.50180259,\n",
              "        0.46440353,  0.35765425,  0.40534525,  0.45913043,  0.49800374,\n",
              "        0.48086153,  0.77711868,  0.49012747,  0.17617824,  0.49574226,\n",
              "        0.38796913,  0.52428626,  0.57860598,  0.44835517,  0.31734586,\n",
              "        0.47991349,  0.66946149,  0.62162939,  0.67331584,  0.35164022,\n",
              "        0.60590235,  0.32618297,  0.61705349,  0.83726266,  0.35447964,\n",
              "        0.19270511,  0.64599798,  0.63950111,  0.65388114,  0.2993885 ,\n",
              "        0.36063763,  0.5599101 ,  0.48123409,  0.34674774,  0.58543057,\n",
              "        0.33654916,  0.47136381,  0.37092421,  0.1470368 ,  0.627048  ,\n",
              "        0.40398989,  0.3502101 ,  0.64285167,  0.04531352,  0.67898021,\n",
              "        0.17778267,  0.47839534,  0.40091927,  0.60155266,  0.54900602,\n",
              "        0.42132272,  0.43396847,  0.37378229,  0.21083991,  0.56471367])"
            ]
          },
          "metadata": {},
          "execution_count": 17
        }
      ]
    },
    {
      "cell_type": "code",
      "source": [
        "sns.histplot(s, kde = True)"
      ],
      "metadata": {
        "colab": {
          "base_uri": "https://localhost:8080/",
          "height": 447
        },
        "id": "DLtHx0jYU3kj",
        "outputId": "922a8d79-e321-405e-c201-30a039463456"
      },
      "id": "DLtHx0jYU3kj",
      "execution_count": null,
      "outputs": [
        {
          "output_type": "execute_result",
          "data": {
            "text/plain": [
              "<Axes: ylabel='Count'>"
            ]
          },
          "metadata": {},
          "execution_count": 18
        },
        {
          "output_type": "display_data",
          "data": {
            "text/plain": [
              "<Figure size 640x480 with 1 Axes>"
            ],
            "image/png": "[encoded data removed]"
          },
          "metadata": {}
        }
      ]
    },
    {
      "cell_type": "code",
      "source": [
        "mu, s= 3., 1.\n",
        "s= np.random.lognormal(mu,s,1000)\n",
        "s"
      ],
      "metadata": {
        "colab": {
          "base_uri": "https://localhost:8080/"
        },
        "id": "p4FXuEv4U4iy",
        "outputId": "ef4a9837-eabe-45a2-8ef7-ac32eeb11f0a"
      },
      "id": "p4FXuEv4U4iy",
      "execution_count": null,
      "outputs": [
        {
          "output_type": "execute_result",
          "data": {
            "text/plain": [
              "array([ 65.8028546 ,  21.88607433,  85.45750188,  49.49110863,\n",
              "        20.66796331,  37.33818323,  17.97122829,  24.67449646,\n",
              "        17.63319789,   8.68501249,  11.16181336,  18.85462465,\n",
              "        61.16865901,   5.45187971,  15.21782558,  21.07192574,\n",
              "        38.19306641,  36.09621028,   6.78632778,  12.64166857,\n",
              "        76.55451869,  60.43672865,  15.46414262,   5.6272178 ,\n",
              "        21.04348422,   2.83645113,  31.16347261,  47.87849122,\n",
              "        24.94660857,   2.62744392,  13.46068204,  18.52910607,\n",
              "        29.10850439,  38.32235487,  13.1408718 ,  36.41091556,\n",
              "        14.89715305, 110.57107942,  30.66643868,  15.70317867,\n",
              "        36.7179834 ,   6.92910415,   1.94475113,  15.9511652 ,\n",
              "        18.7946207 ,  30.22423264, 160.55896865,  14.29749417,\n",
              "        65.49693089,  29.11001864,  31.44875655,  18.97965593,\n",
              "        40.54913073,  24.50116918,  43.58568251,  10.2957082 ,\n",
              "         7.74243792,  50.97282624,   1.65345094,  27.40336255,\n",
              "         4.73031308,  97.78955731,  13.10938502,  31.05715054,\n",
              "        77.30041824,  18.94633523,  31.61878485,  29.72832114,\n",
              "         2.61119982,  37.28675398,  17.91060423,  27.64053142,\n",
              "        12.77656294,  11.17231649,  13.88671871,  10.39145675,\n",
              "        10.02523347,  10.61132416,  13.60655496,   6.98733261,\n",
              "        51.38787245, 282.45571186,  48.38074602, 128.56178641,\n",
              "         5.64794902,  20.8410671 ,  25.40260585,  45.44853648,\n",
              "        18.48250921,  14.73890408,   5.30675025,  38.04266665,\n",
              "        12.40916089,  22.29090955,   9.76668579,   8.37434805,\n",
              "        24.21468034,  44.57320819,  55.07828033, 145.11652721,\n",
              "         6.78451011, 110.77811481,  17.40504824, 277.23847506,\n",
              "         8.18608536,  15.93309987,  29.30648628,  23.24065571,\n",
              "        45.6132786 ,  17.37013294,  21.18641445,  23.59356045,\n",
              "        57.37190541,  17.37917125, 142.32813028,  10.0744425 ,\n",
              "        11.78454218,  76.35681465,  58.67354867,   3.97822178,\n",
              "        97.82393108,  34.84008485,   9.98694687,  27.14847194,\n",
              "        11.30395545,   7.14927671,  62.10451667,  18.33241626,\n",
              "        36.75905454,   4.02771915,  12.57684561,  23.0808052 ,\n",
              "        76.4044661 ,   6.69439838,   3.10907817,  14.41613748,\n",
              "         9.75706026,   2.82494689,   8.9563296 ,   3.43785466,\n",
              "        16.04956377,  15.6072734 ,  16.82908382,   5.15735362,\n",
              "        69.23910381,  33.53910179,  43.38892249,  49.06658251,\n",
              "        62.04064146,  32.20933383,   8.27151399,   3.32274645,\n",
              "        61.41679993,  18.55160715,   5.34710566,  19.86846118,\n",
              "        20.1094166 ,   9.48468113,   2.68622022,  25.60675242,\n",
              "        44.16037996,  12.25766567,  63.60399284,   5.0444037 ,\n",
              "        24.82643111,  24.23958989,  30.75186482,   8.42486414,\n",
              "        13.27386255,  38.47471604,  11.09043477,  60.97322381,\n",
              "       145.65846039,  80.05846767,  12.45400661,   7.7431737 ,\n",
              "        86.90675758,  37.99829498,   2.6871537 ,  12.42197883,\n",
              "         6.39493015,  11.14019663,  31.68835395,   8.67713984,\n",
              "       146.65799112,  10.31404332,  25.31730141,   7.03733719,\n",
              "       138.97564666,  15.50790849,  27.47562325,   8.78941223,\n",
              "        21.2796567 ,   2.78454945,  29.06364159,  29.5244096 ,\n",
              "        64.90906546,  23.71301929,  30.57652732,  68.69315404,\n",
              "        54.0777605 ,  26.19323885,  96.07916537,  33.82883446,\n",
              "        16.64639569,  15.19738783,  64.30774874,  35.54262579,\n",
              "         4.43878137,   6.20784321,   3.24368982, 161.16017274,\n",
              "         2.25893559,   5.48159322,  14.3799475 ,  12.78240291,\n",
              "         9.00634294,  16.81005693,   6.59800616,   5.98136858,\n",
              "        16.71782384,  17.4224179 ,   6.72874002,  53.28099421,\n",
              "       167.80668997,   7.24491085,  58.7578516 ,  40.13963988,\n",
              "       102.21468279,  13.87592512,  13.38799059, 152.92307584,\n",
              "       115.04554624,  20.34683325,  20.52670636,  36.31430373,\n",
              "         8.58893989,  11.47694319,  15.59192502,  31.67277887,\n",
              "        12.41130755,  41.12789194,   8.59213803,   4.9208555 ,\n",
              "         4.80599741,  11.49282394,   7.08949915,  13.4018442 ,\n",
              "        40.21046927,   6.5548339 ,  45.01578179,  32.56090023,\n",
              "         5.02451395,  20.49776561,  65.63225035,   3.60249822,\n",
              "        75.98796408,  18.12364094,   8.54609739,  94.41072486,\n",
              "        19.19664084,  14.87511595,  37.03355696,   6.60693735,\n",
              "        19.93042336,  12.49734621,   6.95491616,  20.91904128,\n",
              "         7.26095422,   7.0155112 ,  19.61056342,   4.58991925,\n",
              "        16.20210061,   4.53401331,  13.83711758,  21.07320469,\n",
              "        18.89037501, 140.63632001,  62.65778556,  46.20356294,\n",
              "        27.23591159,  15.83374845,   9.86627093,  27.12506507,\n",
              "        16.94205553,  11.89697677,  11.80542613,   8.74475477,\n",
              "        26.69832056,  85.45423822,   3.94435166,   9.95321716,\n",
              "        35.01182146,  29.69209892,   6.11620481,  11.73127526,\n",
              "        26.22470675,  10.83917867,  25.12150415,   8.18269193,\n",
              "        28.47932516,  36.6033842 ,  14.92060293,  17.2729996 ,\n",
              "        17.38752536,  52.56012407,  28.30006373,  15.98026006,\n",
              "        33.2800454 ,   6.54655778,  32.98596575,  45.96147249,\n",
              "        16.42651908,  11.18721999,   2.18623628,  12.84161468,\n",
              "        12.51227936,  46.33619155,   8.70847038,  41.21548106,\n",
              "         2.88823201,  16.42902455,   7.54980089,  22.20437266,\n",
              "         6.40075113,  20.96010819,  63.01865955,  83.73766109,\n",
              "         6.30879798,  60.96301123,  62.24855636,  23.89943359,\n",
              "        20.61325332,  16.07628397,   3.76863336, 127.94159139,\n",
              "        73.39814171,   9.46582614,  30.27036922,  12.56760669,\n",
              "        69.43820963,  67.24446722,  72.66363613,   7.21806154,\n",
              "        18.36923868,  22.17539247,   6.45934035,   6.23619534,\n",
              "        15.10185153,  15.15077372,  16.39785983,  16.9400229 ,\n",
              "         8.31784809, 347.4499539 ,  26.52584526,  10.42641122,\n",
              "        32.10935229, 148.50580951,   7.45734186,  12.93486433,\n",
              "        17.31122663,  79.47803103, 176.28863407,   7.14856636,\n",
              "         8.09300699,   6.74760378,   2.74432593,  14.96365984,\n",
              "         2.16765423,  83.26333229,  19.08606368,  98.9314925 ,\n",
              "        11.1439646 ,  24.35597267,  16.15862959,  12.25727707,\n",
              "        38.1963577 ,  32.09989596,  15.65885855,   8.96961999,\n",
              "        15.77486802,  17.29646881, 267.96898544,  87.46149874,\n",
              "         9.63102041, 123.07485029,   5.88382743,   3.80684834,\n",
              "         6.70783036,  22.77507828, 238.97143504,  24.19281308,\n",
              "        15.06207372,  23.5300981 ,   4.4930965 ,   5.19744742,\n",
              "        63.01323853,  44.56834211,  11.12320323,   2.33583926,\n",
              "        47.10330271,  10.05492895,  16.74229105,   7.41442841,\n",
              "       128.37292333,  23.91573457,  27.27333329,  13.12001837,\n",
              "        14.32314557,  18.20429347,  24.99358739,   8.84592977,\n",
              "        19.40311987,   3.60722405,   8.30409387,   7.56467676,\n",
              "         7.93796916,   2.54599764,  76.70194794,   2.98500107,\n",
              "       320.7391388 ,   8.73943247,  61.32347369, 214.43510426,\n",
              "       132.10897206, 106.59551931,  12.48550965,  14.07150812,\n",
              "        59.28268564,  16.34035582,   2.93316148,  11.42380091,\n",
              "        17.18731019,   3.39416368,  11.73208567,  28.89616925,\n",
              "         4.69944445,  18.65443095,  19.42998839,  12.62514236,\n",
              "       114.20829339,  30.91929152,   7.46033982,   5.81031856,\n",
              "         6.23982391,  20.57841637,  31.12127055,  37.66544244,\n",
              "        10.29979091,  22.39750679,  12.46783772,  34.955421  ,\n",
              "        60.81073456,   8.54578638,   5.26794499,  24.79815302,\n",
              "         5.28569282, 105.6425697 ,   1.37147769,  36.43029268,\n",
              "        35.7837939 ,  70.79440607,   8.76710677,  38.41204785,\n",
              "        11.80398246,  13.29692577,  13.86709723,  10.37764826,\n",
              "        32.51785841,  55.99192633,   9.39093949,   5.7022573 ,\n",
              "        33.40661639,   6.62261867,   4.57804271,  65.36223478,\n",
              "         7.1561638 ,  26.97561004,  55.70798957,  19.9744792 ,\n",
              "        79.07196974,  14.07725207,  46.20797735,  20.19647188,\n",
              "         9.94927116,  26.56853764,  37.06333475,  78.91250633,\n",
              "        34.4475585 ,  35.91260172,  13.56833686,  12.23485398,\n",
              "        12.18239422,   5.69506631,  10.00865951,   2.13661166,\n",
              "        19.1131519 ,  55.57980627,  13.06526109,   4.74836417,\n",
              "        17.17120416,  38.82102755,  13.11170195,  16.8175868 ,\n",
              "        15.88942125,   6.32411941,  10.98918826,  46.53709714,\n",
              "        39.45717812,  22.96605529,  34.45868545,  66.36207413,\n",
              "        73.56660795,  72.63541899,   8.23733853,   8.53744645,\n",
              "        14.9996275 ,  20.00699825,  76.89082087,  53.53068674,\n",
              "        13.70619396,   5.89199822,   8.78372124,  43.52737124,\n",
              "        22.71437234,  18.54416591,  60.25757538,  32.16393541,\n",
              "         4.6992194 ,  94.92554961,  22.43669002,  23.48490118,\n",
              "        33.03940342,  12.2542875 ,  27.73252609,  44.16932617,\n",
              "        35.08855996,  12.22904826,  37.88056947,  40.68820396,\n",
              "        14.67999835,  45.42094917,  18.6206826 ,  25.89033699,\n",
              "        27.07395502,  27.59072958,   7.6753819 ,  15.9355119 ,\n",
              "        17.26350249,  94.85219193,  33.60036804,  80.83552669,\n",
              "        27.55301291,  24.86183366,  16.42138318,  19.24653477,\n",
              "        24.62001082,   3.65728652,  14.42335344,   5.67716309,\n",
              "        15.05523144,  14.26435622,  16.44692818,   5.66807618,\n",
              "       112.28171005,  45.04816542,  61.32381789,  26.63744263,\n",
              "        36.22536674,  15.11157987,   0.9599191 ,  24.00585653,\n",
              "         4.26478865,  10.31801878,  45.51950532,  12.66418107,\n",
              "        32.03211973,  28.5854315 ,   9.07488387,  10.29793538,\n",
              "        95.58240411,  55.34192088,   5.97462394,  88.08811258,\n",
              "        44.10357408,   8.60434808,   7.3407697 ,  24.89701487,\n",
              "        24.53312988,  12.68732826,  30.46945132,  17.70665111,\n",
              "        29.3896309 ,   3.68127707, 897.27635866,  63.01189901,\n",
              "        27.43588053,   2.41169822,  13.63314627,  18.34977369,\n",
              "        35.10340938,  21.00773558,  30.2627543 ,   9.35696527,\n",
              "        33.9900367 ,  31.82923472,  66.81978375,   8.67608498,\n",
              "         1.59642752,  13.41382926,   1.57304765,  21.3503213 ,\n",
              "        10.96434038,  33.96521759,   4.86069971,  88.54660736,\n",
              "        64.90480322,   1.74378455,  20.14737025,   5.9062771 ,\n",
              "         4.59308477,   4.51901229,  16.94996162,  13.73494917,\n",
              "         3.76753495,   9.59802607,   3.74869045,  11.82130934,\n",
              "        38.52813894,   7.14144795,  17.92772677,  13.1837795 ,\n",
              "         7.62906803,  19.45564852,  17.20819127,  16.52429101,\n",
              "        29.85667642,   9.32644973,  11.71915023,   4.97806027,\n",
              "        20.77981418,  15.4979996 ,   2.23188752, 245.59227471,\n",
              "        14.0027304 ,  14.27126451,  30.21020801,  24.63818038,\n",
              "         2.68141258,  31.78876018,   3.15864781,   4.25756601,\n",
              "         5.41720503,  21.30841928,  11.41338447,  29.93602457,\n",
              "        17.1588675 ,  13.17805058,  51.38969047,  75.30654216,\n",
              "        12.18257618,  47.73240437,  30.5683632 ,   9.9133608 ,\n",
              "        22.45854347,   1.31389444,  21.51152323,   5.05821761,\n",
              "       124.22624872,  16.84338517,  43.85053996,   9.61875458,\n",
              "         5.26319981,  37.51649817,   7.569667  ,  37.65147639,\n",
              "         7.82219749,  24.49832414,   2.86685792,  65.12717859,\n",
              "        41.21814494,  11.8759572 ,  20.68656135,  12.91321969,\n",
              "        49.41132834,  13.86337642,   6.06086293,  13.15728662,\n",
              "       134.65970813,  38.40666209,  18.4755969 ,  25.47780658,\n",
              "        10.04430444,  79.07997055,   4.20154654,   2.57063506,\n",
              "         2.65729596,   4.36356744,  20.79333703,  53.59828216,\n",
              "        14.92111337,  18.61247171,   8.03664205,   7.28634751,\n",
              "         3.97674333,  22.80051322,  20.62159101,  47.26135738,\n",
              "         4.78692402,  61.65583593,  67.72351787,  17.09649542,\n",
              "        68.64488444,  15.52481585,  38.83774796,   5.79843792,\n",
              "       176.2280179 ,  21.41456082,  29.78271941,  13.12467644,\n",
              "        12.6430747 , 142.84712899,   6.96518784,   6.48212083,\n",
              "        79.4548435 ,  28.11537308,  14.87016548,  17.64634724,\n",
              "        14.53010806,  38.29173587,  30.20468117,  34.99180835,\n",
              "         8.60879893,  37.66333618,  89.44821941,   3.76679969,\n",
              "         9.44024497,  17.01548865,  20.60996572,  11.06627666,\n",
              "        74.13738846,  44.50565133,  15.93060996,  39.35766888,\n",
              "        76.49420633,  40.21064435,  13.08768777,  12.40042731,\n",
              "        19.85564157,   9.86320126,  24.90216556,   5.64734016,\n",
              "        15.10566257,  27.4640708 ,  14.22334175, 127.00238787,\n",
              "        22.85126793,  31.62977149,   5.07649078,  11.753379  ,\n",
              "        12.52094444, 451.9383415 ,  39.13730764,  10.83409079,\n",
              "         8.69574495,   8.90455345,  15.91766663,  56.35090515,\n",
              "         4.84887596,  37.18164094,  12.49659067,   6.8845334 ,\n",
              "         7.37797438,  14.55813711,   6.53126604,  41.79453478,\n",
              "       124.49014069, 160.5937256 ,  27.50890645,  10.7431859 ,\n",
              "        25.11776318,  39.60938231,  22.74325438,  61.54557065,\n",
              "        14.7852663 ,  24.84223452, 102.13123914,  89.99556567,\n",
              "         3.47179643,  19.42791121,  40.64555676, 126.14787135,\n",
              "        48.8076822 ,  85.97220493,  21.29947989,  18.68067983,\n",
              "        23.83352006,  31.37864997, 103.7520117 ,  59.0602161 ,\n",
              "        24.11990975,   3.70751951,  77.3829028 ,   4.19701791,\n",
              "        23.30624415,  13.50194534,   9.37833188,  20.25604641,\n",
              "        13.64249416,  78.90776135,   2.56452688,   2.62550557,\n",
              "        82.00253474,   9.8019027 ,  35.93116359,  34.2437294 ,\n",
              "        41.73010708,  29.51318814,  15.78337163,   4.45026287,\n",
              "        19.33061451,  73.46102602,   6.68620423,  79.93047388,\n",
              "        18.54591245,  13.79889737, 108.74498445,   8.14362628,\n",
              "        37.76676514,  55.229721  ,  13.9157451 ,  14.79678003,\n",
              "        10.36919077,  17.72727557,   9.57741703,   6.23680722,\n",
              "         7.5155588 ,  50.27131088,  71.04276933,  13.14119319,\n",
              "        54.03387917, 152.86041811,  82.78469188,  13.078005  ,\n",
              "         6.89793007,  53.53396647,  28.69084241,   8.09045833,\n",
              "        32.9176906 ,  53.06843816,  97.85708768,  32.3689778 ,\n",
              "        63.68857946,  40.17897867,  51.56310882,  13.3078365 ,\n",
              "         9.88626548,  14.02555087,  10.11690775,  62.57746697,\n",
              "        12.57317577,   4.08284446,  33.85370592,   5.63782739,\n",
              "        10.09481812,  21.33643418,   9.80600456,   4.41575583,\n",
              "        44.52870306,  14.74408367,  37.6012905 ,  14.69800468,\n",
              "        12.52799755,  24.81892485,   7.16065966,  21.5017265 ,\n",
              "         8.40180711,  42.11005483,   4.31943749,   4.50330293,\n",
              "        76.5861062 ,   8.9910871 ,  38.53441315,  18.30761335,\n",
              "        23.99966594,   8.48649562,  10.90155838, 141.01078072,\n",
              "       101.01167008,  16.45145112,   7.03064698, 115.69991929,\n",
              "         3.50562191, 150.9055726 ,  12.89236732,   9.0469809 ,\n",
              "         7.3606197 , 601.02545157,  14.93792121,  17.18458754,\n",
              "        22.86236092,  10.09699258,  88.38756172,  25.0444424 ,\n",
              "        18.94023775,   4.41361071,  27.76601615,  39.52472194,\n",
              "        22.9236166 ,  20.10553516,  30.60871644,   5.67592744,\n",
              "         9.95374616,   2.34463677,  15.48398757,  17.81332847,\n",
              "        63.33809335,  62.49526308,   9.8453865 ,   4.35544348,\n",
              "         5.85940873,   4.25264923,  28.56569983,  58.43513279,\n",
              "         0.90034783,   7.44803582,  32.55157615,  34.23853695,\n",
              "        37.02148347,   4.88613919,   8.57395298,  16.07059682,\n",
              "         3.82821094,  17.45098637,   8.43311449,   8.2129266 ,\n",
              "        20.75765457,   2.84594785,  11.44240188,  67.15921322,\n",
              "       115.61349343,  10.70955102,  85.35651127,  11.28605721,\n",
              "        21.65446204,  45.86358836, 115.23765628, 137.69717965,\n",
              "        29.52069459,  12.58837422,  10.3419183 ,   9.62262692,\n",
              "        22.96197217,  11.69552833,  70.31283539,  95.39363426,\n",
              "        34.93688233,  88.91907425,  41.46637479,   1.20042986,\n",
              "        89.02466696,  30.59401403,   6.1969415 ,  38.89491609,\n",
              "         6.64502719,  24.02804244,  47.07635612,  17.27985578,\n",
              "         6.39921064,  57.10185877,  52.60824051,  44.00282669,\n",
              "        20.19069565,  48.27516341,  27.18240708,  20.4351894 ,\n",
              "       111.27085654,  17.44623414,  11.58190197,   9.12458891,\n",
              "        16.83119869,  66.32045907,  20.41802561, 139.81296095,\n",
              "        11.03489194,   4.74750912,  19.67375083,  31.24775631,\n",
              "        25.42444183,  78.54849467,   3.63047222,  10.95275868,\n",
              "        17.8680209 ,  45.44592112,  63.72399994,  84.8529217 ,\n",
              "        44.79089463, 187.43100351,   2.68925186,  16.07544288])"
            ]
          },
          "metadata": {},
          "execution_count": 19
        }
      ]
    },
    {
      "cell_type": "code",
      "source": [
        "sns.histplot(np.log(s), kde = True)"
      ],
      "metadata": {
        "colab": {
          "base_uri": "https://localhost:8080/",
          "height": 447
        },
        "id": "_T179il4U4pR",
        "outputId": "98f3984d-b7b6-4d54-a849-c3e2da99b6c5"
      },
      "id": "_T179il4U4pR",
      "execution_count": null,
      "outputs": [
        {
          "output_type": "execute_result",
          "data": {
            "text/plain": [
              "<Axes: ylabel='Count'>"
            ]
          },
          "metadata": {},
          "execution_count": 21
        },
        {
          "output_type": "display_data",
          "data": {
            "text/plain": [
              "<Figure size 640x480 with 1 Axes>"
            ],
            "image/png": "[encoded data removed]"
          },
          "metadata": {}
        }
      ]
    },
    {
      "cell_type": "code",
      "source": [
        "##check whether distribution is normal or not\n",
        "import matplotlib.pyplot as plt\n",
        "import scipy.stats as stats\n",
        "import pylab\n",
        "def plot_data(sample):\n",
        " ## plt.figure(figsize = (  10,6))\n",
        "  plt.subplot(1,2,1)\n",
        "  sns.histplot(sample, kde = True)\n",
        "  plt.subplot(1,2,2)\n",
        "  stats.probplot(sample, dist = 'norm', plot = pylab)\n",
        "  plt.show()"
      ],
      "metadata": {
        "id": "FS72cZbZU4vI"
      },
      "id": "FS72cZbZU4vI",
      "execution_count": null,
      "outputs": []
    },
    {
      "cell_type": "code",
      "source": [
        "plot_data(df['sepal_width'])"
      ],
      "metadata": {
        "colab": {
          "base_uri": "https://localhost:8080/",
          "height": 472
        },
        "id": "bPi6XI2QaCtr",
        "outputId": "dc1b5b68-4ee8-4336-d1ee-34d811f01105"
      },
      "id": "bPi6XI2QaCtr",
      "execution_count": null,
      "outputs": [
        {
          "output_type": "display_data",
          "data": {
            "text/plain": [
              "<Figure size 640x480 with 2 Axes>"
            ],
            "image/png": "[encoded data removed]"
          },
          "metadata": {}
        }
      ]
    },
    {
      "cell_type": "code",
      "source": [
        "s = np.random.normal(0.5,0.2, 1000)\n",
        "plot_data(s)"
      ],
      "metadata": {
        "colab": {
          "base_uri": "https://localhost:8080/",
          "height": 472
        },
        "id": "Lm65P0q8U41B",
        "outputId": "429feb11-2134-4c76-e57a-e43ff744796d"
      },
      "id": "Lm65P0q8U41B",
      "execution_count": null,
      "outputs": [
        {
          "output_type": "display_data",
          "data": {
            "text/plain": [
              "<Figure size 640x480 with 2 Axes>"
            ],
            "image/png": "[encoded data removed]"
          },
          "metadata": {}
        }
      ]
    },
    {
      "cell_type": "code",
      "source": [
        "df = sns.load_dataset('titanic')"
      ],
      "metadata": {
        "id": "4G8U5VGTU4-3"
      },
      "id": "4G8U5VGTU4-3",
      "execution_count": null,
      "outputs": []
    },
    {
      "cell_type": "code",
      "source": [
        "df.head()"
      ],
      "metadata": {
        "colab": {
          "base_uri": "https://localhost:8080/",
          "height": 206
        },
        "id": "OmW9TIx8U5DR",
        "outputId": "2dc90837-3da6-4737-c9d5-0459d8cb654c"
      },
      "id": "OmW9TIx8U5DR",
      "execution_count": null,
      "outputs": [
        {
          "output_type": "execute_result",
          "data": {
            "text/plain": [
              "   survived  pclass     sex   age  sibsp  parch     fare embarked  class  \\\n",
              "0         0       3    male  22.0      1      0   7.2500        S  Third   \n",
              "1         1       1  female  38.0      1      0  71.2833        C  First   \n",
              "2         1       3  female  26.0      0      0   7.9250        S  Third   \n",
              "3         1       1  female  35.0      1      0  53.1000        S  First   \n",
              "4         0       3    male  35.0      0      0   8.0500        S  Third   \n",
              "\n",
              "     who  adult_male deck  embark_town alive  alone  \n",
              "0    man        True  NaN  Southampton    no  False  \n",
              "1  woman       False    C    Cherbourg   yes  False  \n",
              "2  woman       False  NaN  Southampton   yes   True  \n",
              "3  woman       False    C  Southampton   yes  False  \n",
              "4    man        True  NaN  Southampton    no   True  "
            ],
            "text/html": [
              "\n",
              "  <div id=\"df-7c4d7089-8e16-4807-8a12-0de13a1507ca\" class=\"colab-df-container\">\n",
              "    <div>\n",
              "<style scoped>\n",
              "    .dataframe tbody tr th:only-of-type {\n",
              "        vertical-align: middle;\n",
              "    }\n",
              "\n",
              "    .dataframe tbody tr th {\n",
              "        vertical-align: top;\n",
              "    }\n",
              "\n",
              "    .dataframe thead th {\n",
              "        text-align: right;\n",
              "    }\n",
              "</style>\n",
              "<table border=\"1\" class=\"dataframe\">\n",
              "  <thead>\n",
              "    <tr style=\"text-align: right;\">\n",
              "      <th></th>\n",
              "      <th>survived</th>\n",
              "      <th>pclass</th>\n",
              "      <th>sex</th>\n",
              "      <th>age</th>\n",
              "      <th>sibsp</th>\n",
              "      <th>parch</th>\n",
              "      <th>fare</th>\n",
              "      <th>embarked</th>\n",
              "      <th>class</th>\n",
              "      <th>who</th>\n",
              "      <th>adult_male</th>\n",
              "      <th>deck</th>\n",
              "      <th>embark_town</th>\n",
              "      <th>alive</th>\n",
              "      <th>alone</th>\n",
              "    </tr>\n",
              "  </thead>\n",
              "  <tbody>\n",
              "    <tr>\n",
              "      <th>0</th>\n",
              "      <td>0</td>\n",
              "      <td>3</td>\n",
              "      <td>male</td>\n",
              "      <td>22.0</td>\n",
              "      <td>1</td>\n",
              "      <td>0</td>\n",
              "      <td>7.2500</td>\n",
              "      <td>S</td>\n",
              "      <td>Third</td>\n",
              "      <td>man</td>\n",
              "      <td>True</td>\n",
              "      <td>NaN</td>\n",
              "      <td>Southampton</td>\n",
              "      <td>no</td>\n",
              "      <td>False</td>\n",
              "    </tr>\n",
              "    <tr>\n",
              "      <th>1</th>\n",
              "      <td>1</td>\n",
              "      <td>1</td>\n",
              "      <td>female</td>\n",
              "      <td>38.0</td>\n",
              "      <td>1</td>\n",
              "      <td>0</td>\n",
              "      <td>71.2833</td>\n",
              "      <td>C</td>\n",
              "      <td>First</td>\n",
              "      <td>woman</td>\n",
              "      <td>False</td>\n",
              "      <td>C</td>\n",
              "      <td>Cherbourg</td>\n",
              "      <td>yes</td>\n",
              "      <td>False</td>\n",
              "    </tr>\n",
              "    <tr>\n",
              "      <th>2</th>\n",
              "      <td>1</td>\n",
              "      <td>3</td>\n",
              "      <td>female</td>\n",
              "      <td>26.0</td>\n",
              "      <td>0</td>\n",
              "      <td>0</td>\n",
              "      <td>7.9250</td>\n",
              "      <td>S</td>\n",
              "      <td>Third</td>\n",
              "      <td>woman</td>\n",
              "      <td>False</td>\n",
              "      <td>NaN</td>\n",
              "      <td>Southampton</td>\n",
              "      <td>yes</td>\n",
              "      <td>True</td>\n",
              "    </tr>\n",
              "    <tr>\n",
              "      <th>3</th>\n",
              "      <td>1</td>\n",
              "      <td>1</td>\n",
              "      <td>female</td>\n",
              "      <td>35.0</td>\n",
              "      <td>1</td>\n",
              "      <td>0</td>\n",
              "      <td>53.1000</td>\n",
              "      <td>S</td>\n",
              "      <td>First</td>\n",
              "      <td>woman</td>\n",
              "      <td>False</td>\n",
              "      <td>C</td>\n",
              "      <td>Southampton</td>\n",
              "      <td>yes</td>\n",
              "      <td>False</td>\n",
              "    </tr>\n",
              "    <tr>\n",
              "      <th>4</th>\n",
              "      <td>0</td>\n",
              "      <td>3</td>\n",
              "      <td>male</td>\n",
              "      <td>35.0</td>\n",
              "      <td>0</td>\n",
              "      <td>0</td>\n",
              "      <td>8.0500</td>\n",
              "      <td>S</td>\n",
              "      <td>Third</td>\n",
              "      <td>man</td>\n",
              "      <td>True</td>\n",
              "      <td>NaN</td>\n",
              "      <td>Southampton</td>\n",
              "      <td>no</td>\n",
              "      <td>True</td>\n",
              "    </tr>\n",
              "  </tbody>\n",
              "</table>\n",
              "</div>\n",
              "    <div class=\"colab-df-buttons\">\n",
              "\n",
              "  <div class=\"colab-df-container\">\n",
              "    <button class=\"colab-df-convert\" onclick=\"convertToInteractive('df-7c4d7089-8e16-4807-8a12-0de13a1507ca')\"\n",
              "            title=\"Convert this dataframe to an interactive table.\"\n",
              "            style=\"display:none;\">\n",
              "\n",
              "  <svg xmlns=\"http://www.w3.org/2000/svg\" height=\"24px\" viewBox=\"0 -960 960 960\">\n",
              "    <path d=\"M120-120v-720h720v720H120Zm60-500h600v-160H180v160Zm220 220h160v-160H400v160Zm0 220h160v-160H400v160ZM180-400h160v-160H180v160Zm440 0h160v-160H620v160ZM180-180h160v-160H180v160Zm440 0h160v-160H620v160Z\"/>\n",
              "  </svg>\n",
              "    </button>\n",
              "\n",
              "  <style>\n",
              "    .colab-df-container {\n",
              "      display:flex;\n",
              "      gap: 12px;\n",
              "    }\n",
              "\n",
              "    .colab-df-convert {\n",
              "      background-color: #E8F0FE;\n",
              "      border: none;\n",
              "      border-radius: 50%;\n",
              "      cursor: pointer;\n",
              "      display: none;\n",
              "      fill: #1967D2;\n",
              "      height: 32px;\n",
              "      padding: 0 0 0 0;\n",
              "      width: 32px;\n",
              "    }\n",
              "\n",
              "    .colab-df-convert:hover {\n",
              "      background-color: #E2EBFA;\n",
              "      box-shadow: 0px 1px 2px rgba(60, 64, 67, 0.3), 0px 1px 3px 1px rgba(60, 64, 67, 0.15);\n",
              "      fill: #174EA6;\n",
              "    }\n",
              "\n",
              "    .colab-df-buttons div {\n",
              "      margin-bottom: 4px;\n",
              "    }\n",
              "\n",
              "    [theme=dark] .colab-df-convert {\n",
              "      background-color: #3B4455;\n",
              "      fill: #D2E3FC;\n",
              "    }\n",
              "\n",
              "    [theme=dark] .colab-df-convert:hover {\n",
              "      background-color: #434B5C;\n",
              "      box-shadow: 0px 1px 3px 1px rgba(0, 0, 0, 0.15);\n",
              "      filter: drop-shadow(0px 1px 2px rgba(0, 0, 0, 0.3));\n",
              "      fill: #FFFFFF;\n",
              "    }\n",
              "  </style>\n",
              "\n",
              "    <script>\n",
              "      const buttonEl =\n",
              "        document.querySelector('#df-7c4d7089-8e16-4807-8a12-0de13a1507ca button.colab-df-convert');\n",
              "      buttonEl.style.display =\n",
              "        google.colab.kernel.accessAllowed ? 'block' : 'none';\n",
              "\n",
              "      async function convertToInteractive(key) {\n",
              "        const element = document.querySelector('#df-7c4d7089-8e16-4807-8a12-0de13a1507ca');\n",
              "        const dataTable =\n",
              "          await google.colab.kernel.invokeFunction('convertToInteractive',\n",
              "                                                    [key], {});\n",
              "        if (!dataTable) return;\n",
              "\n",
              "        const docLinkHtml = 'Like what you see? Visit the ' +\n",
              "          '<a target=\"_blank\" href=https://colab.research.google.com/notebooks/data_table.ipynb>data table notebook</a>'\n",
              "          + ' to learn more about interactive tables.';\n",
              "        element.innerHTML = '';\n",
              "        dataTable['output_type'] = 'display_data';\n",
              "        await google.colab.output.renderOutput(dataTable, element);\n",
              "        const docLink = document.createElement('div');\n",
              "        docLink.innerHTML = docLinkHtml;\n",
              "        element.appendChild(docLink);\n",
              "      }\n",
              "    </script>\n",
              "  </div>\n",
              "\n",
              "\n",
              "<div id=\"df-e019cd79-ca20-4d35-b901-82cdc5da969c\">\n",
              "  <button class=\"colab-df-quickchart\" onclick=\"quickchart('df-e019cd79-ca20-4d35-b901-82cdc5da969c')\"\n",
              "            title=\"Suggest charts\"\n",
              "            style=\"display:none;\">\n",
              "\n",
              "<svg xmlns=\"http://www.w3.org/2000/svg\" height=\"24px\"viewBox=\"0 0 24 24\"\n",
              "     width=\"24px\">\n",
              "    <g>\n",
              "        <path d=\"M19 3H5c-1.1 0-2 .9-2 2v14c0 1.1.9 2 2 2h14c1.1 0 2-.9 2-2V5c0-1.1-.9-2-2-2zM9 17H7v-7h2v7zm4 0h-2V7h2v10zm4 0h-2v-4h2v4z\"/>\n",
              "    </g>\n",
              "</svg>\n",
              "  </button>\n",
              "\n",
              "<style>\n",
              "  .colab-df-quickchart {\n",
              "      --bg-color: #E8F0FE;\n",
              "      --fill-color: #1967D2;\n",
              "      --hover-bg-color: #E2EBFA;\n",
              "      --hover-fill-color: #174EA6;\n",
              "      --disabled-fill-color: #AAA;\n",
              "      --disabled-bg-color: #DDD;\n",
              "  }\n",
              "\n",
              "  [theme=dark] .colab-df-quickchart {\n",
              "      --bg-color: #3B4455;\n",
              "      --fill-color: #D2E3FC;\n",
              "      --hover-bg-color: #434B5C;\n",
              "      --hover-fill-color: #FFFFFF;\n",
              "      --disabled-bg-color: #3B4455;\n",
              "      --disabled-fill-color: #666;\n",
              "  }\n",
              "\n",
              "  .colab-df-quickchart {\n",
              "    background-color: var(--bg-color);\n",
              "    border: none;\n",
              "    border-radius: 50%;\n",
              "    cursor: pointer;\n",
              "    display: none;\n",
              "    fill: var(--fill-color);\n",
              "    height: 32px;\n",
              "    padding: 0;\n",
              "    width: 32px;\n",
              "  }\n",
              "\n",
              "  .colab-df-quickchart:hover {\n",
              "    background-color: var(--hover-bg-color);\n",
              "    box-shadow: 0 1px 2px rgba(60, 64, 67, 0.3), 0 1px 3px 1px rgba(60, 64, 67, 0.15);\n",
              "    fill: var(--button-hover-fill-color);\n",
              "  }\n",
              "\n",
              "  .colab-df-quickchart-complete:disabled,\n",
              "  .colab-df-quickchart-complete:disabled:hover {\n",
              "    background-color: var(--disabled-bg-color);\n",
              "    fill: var(--disabled-fill-color);\n",
              "    box-shadow: none;\n",
              "  }\n",
              "\n",
              "  .colab-df-spinner {\n",
              "    border: 2px solid var(--fill-color);\n",
              "    border-color: transparent;\n",
              "    border-bottom-color: var(--fill-color);\n",
              "    animation:\n",
              "      spin 1s steps(1) infinite;\n",
              "  }\n",
              "\n",
              "  @keyframes spin {\n",
              "    0% {\n",
              "      border-color: transparent;\n",
              "      border-bottom-color: var(--fill-color);\n",
              "      border-left-color: var(--fill-color);\n",
              "    }\n",
              "    20% {\n",
              "      border-color: transparent;\n",
              "      border-left-color: var(--fill-color);\n",
              "      border-top-color: var(--fill-color);\n",
              "    }\n",
              "    30% {\n",
              "      border-color: transparent;\n",
              "      border-left-color: var(--fill-color);\n",
              "      border-top-color: var(--fill-color);\n",
              "      border-right-color: var(--fill-color);\n",
              "    }\n",
              "    40% {\n",
              "      border-color: transparent;\n",
              "      border-right-color: var(--fill-color);\n",
              "      border-top-color: var(--fill-color);\n",
              "    }\n",
              "    60% {\n",
              "      border-color: transparent;\n",
              "      border-right-color: var(--fill-color);\n",
              "    }\n",
              "    80% {\n",
              "      border-color: transparent;\n",
              "      border-right-color: var(--fill-color);\n",
              "      border-bottom-color: var(--fill-color);\n",
              "    }\n",
              "    90% {\n",
              "      border-color: transparent;\n",
              "      border-bottom-color: var(--fill-color);\n",
              "    }\n",
              "  }\n",
              "</style>\n",
              "\n",
              "  <script>\n",
              "    async function quickchart(key) {\n",
              "      const quickchartButtonEl =\n",
              "        document.querySelector('#' + key + ' button');\n",
              "      quickchartButtonEl.disabled = true;  // To prevent multiple clicks.\n",
              "      quickchartButtonEl.classList.add('colab-df-spinner');\n",
              "      try {\n",
              "        const charts = await google.colab.kernel.invokeFunction(\n",
              "            'suggestCharts', [key], {});\n",
              "      } catch (error) {\n",
              "        console.error('Error during call to suggestCharts:', error);\n",
              "      }\n",
              "      quickchartButtonEl.classList.remove('colab-df-spinner');\n",
              "      quickchartButtonEl.classList.add('colab-df-quickchart-complete');\n",
              "    }\n",
              "    (() => {\n",
              "      let quickchartButtonEl =\n",
              "        document.querySelector('#df-e019cd79-ca20-4d35-b901-82cdc5da969c button');\n",
              "      quickchartButtonEl.style.display =\n",
              "        google.colab.kernel.accessAllowed ? 'block' : 'none';\n",
              "    })();\n",
              "  </script>\n",
              "</div>\n",
              "\n",
              "    </div>\n",
              "  </div>\n"
            ],
            "application/vnd.google.colaboratory.intrinsic+json": {
              "type": "dataframe",
              "variable_name": "df",
              "summary": "{\n  \"name\": \"df\",\n  \"rows\": 891,\n  \"fields\": [\n    {\n      \"column\": \"survived\",\n      \"properties\": {\n        \"dtype\": \"number\",\n        \"std\": 0,\n        \"min\": 0,\n        \"max\": 1,\n        \"num_unique_values\": 2,\n        \"samples\": [\n          1,\n          0\n        ],\n        \"semantic_type\": \"\",\n        \"description\": \"\"\n      }\n    },\n    {\n      \"column\": \"pclass\",\n      \"properties\": {\n        \"dtype\": \"number\",\n        \"std\": 0,\n        \"min\": 1,\n        \"max\": 3,\n        \"num_unique_values\": 3,\n        \"samples\": [\n          3,\n          1\n        ],\n        \"semantic_type\": \"\",\n        \"description\": \"\"\n      }\n    },\n    {\n      \"column\": \"sex\",\n      \"properties\": {\n        \"dtype\": \"category\",\n        \"num_unique_values\": 2,\n        \"samples\": [\n          \"female\",\n          \"male\"\n        ],\n        \"semantic_type\": \"\",\n        \"description\": \"\"\n      }\n    },\n    {\n      \"column\": \"age\",\n      \"properties\": {\n        \"dtype\": \"number\",\n        \"std\": 14.526497332334042,\n        \"min\": 0.42,\n        \"max\": 80.0,\n        \"num_unique_values\": 88,\n        \"samples\": [\n          0.75,\n          22.0\n        ],\n        \"semantic_type\": \"\",\n        \"description\": \"\"\n      }\n    },\n    {\n      \"column\": \"sibsp\",\n      \"properties\": {\n        \"dtype\": \"number\",\n        \"std\": 1,\n        \"min\": 0,\n        \"max\": 8,\n        \"num_unique_values\": 7,\n        \"samples\": [\n          1,\n          0\n        ],\n        \"semantic_type\": \"\",\n        \"description\": \"\"\n      }\n    },\n    {\n      \"column\": \"parch\",\n      \"properties\": {\n        \"dtype\": \"number\",\n        \"std\": 0,\n        \"min\": 0,\n        \"max\": 6,\n        \"num_unique_values\": 7,\n        \"samples\": [\n          0,\n          1\n        ],\n        \"semantic_type\": \"\",\n        \"description\": \"\"\n      }\n    },\n    {\n      \"column\": \"fare\",\n      \"properties\": {\n        \"dtype\": \"number\",\n        \"std\": 49.6934285971809,\n        \"min\": 0.0,\n        \"max\": 512.3292,\n        \"num_unique_values\": 248,\n        \"samples\": [\n          11.2417,\n          51.8625\n        ],\n        \"semantic_type\": \"\",\n        \"description\": \"\"\n      }\n    },\n    {\n      \"column\": \"embarked\",\n      \"properties\": {\n        \"dtype\": \"category\",\n        \"num_unique_values\": 3,\n        \"samples\": [\n          \"S\",\n          \"C\"\n        ],\n        \"semantic_type\": \"\",\n        \"description\": \"\"\n      }\n    },\n    {\n      \"column\": \"class\",\n      \"properties\": {\n        \"dtype\": \"category\",\n        \"num_unique_values\": 3,\n        \"samples\": [\n          \"Third\",\n          \"First\"\n        ],\n        \"semantic_type\": \"\",\n        \"description\": \"\"\n      }\n    },\n    {\n      \"column\": \"who\",\n      \"properties\": {\n        \"dtype\": \"category\",\n        \"num_unique_values\": 3,\n        \"samples\": [\n          \"man\",\n          \"woman\"\n        ],\n        \"semantic_type\": \"\",\n        \"description\": \"\"\n      }\n    },\n    {\n      \"column\": \"adult_male\",\n      \"properties\": {\n        \"dtype\": \"boolean\",\n        \"num_unique_values\": 2,\n        \"samples\": [\n          false,\n          true\n        ],\n        \"semantic_type\": \"\",\n        \"description\": \"\"\n      }\n    },\n    {\n      \"column\": \"deck\",\n      \"properties\": {\n        \"dtype\": \"category\",\n        \"num_unique_values\": 7,\n        \"samples\": [\n          \"C\",\n          \"E\"\n        ],\n        \"semantic_type\": \"\",\n        \"description\": \"\"\n      }\n    },\n    {\n      \"column\": \"embark_town\",\n      \"properties\": {\n        \"dtype\": \"category\",\n        \"num_unique_values\": 3,\n        \"samples\": [\n          \"Southampton\",\n          \"Cherbourg\"\n        ],\n        \"semantic_type\": \"\",\n        \"description\": \"\"\n      }\n    },\n    {\n      \"column\": \"alive\",\n      \"properties\": {\n        \"dtype\": \"category\",\n        \"num_unique_values\": 2,\n        \"samples\": [\n          \"yes\",\n          \"no\"\n        ],\n        \"semantic_type\": \"\",\n        \"description\": \"\"\n      }\n    },\n    {\n      \"column\": \"alone\",\n      \"properties\": {\n        \"dtype\": \"boolean\",\n        \"num_unique_values\": 2,\n        \"samples\": [\n          true,\n          false\n        ],\n        \"semantic_type\": \"\",\n        \"description\": \"\"\n      }\n    }\n  ]\n}"
            }
          },
          "metadata": {},
          "execution_count": 48
        }
      ]
    },
    {
      "cell_type": "code",
      "source": [
        "plot_data(df['fare'])"
      ],
      "metadata": {
        "colab": {
          "base_uri": "https://localhost:8080/",
          "height": 472
        },
        "id": "rXM9HRKdU5Hn",
        "outputId": "40cc7e69-cc07-48ea-d2d8-bdf41888efb1"
      },
      "id": "rXM9HRKdU5Hn",
      "execution_count": null,
      "outputs": [
        {
          "output_type": "display_data",
          "data": {
            "text/plain": [
              "<Figure size 640x480 with 2 Axes>"
            ],
            "image/png": "[encoded data removed]"
          },
          "metadata": {}
        }
      ]
    },
    {
      "cell_type": "code",
      "source": [],
      "metadata": {
        "id": "Iwe9NU7RavrJ"
      },
      "id": "Iwe9NU7RavrJ",
      "execution_count": null,
      "outputs": []
    },
    {
      "cell_type": "code",
      "source": [],
      "metadata": {
        "id": "68-jRSc-av_d"
      },
      "id": "68-jRSc-av_d",
      "execution_count": null,
      "outputs": []
    },
    {
      "cell_type": "code",
      "source": [],
      "metadata": {
        "id": "dpbdHaJ6awIU"
      },
      "id": "dpbdHaJ6awIU",
      "execution_count": null,
      "outputs": []
    },
    {
      "cell_type": "code",
      "source": [],
      "metadata": {
        "id": "pI_lZbHCawQF"
      },
      "id": "pI_lZbHCawQF",
      "execution_count": null,
      "outputs": []
    },
    {
      "cell_type": "code",
      "source": [],
      "metadata": {
        "id": "ArzaHnEtawY1"
      },
      "id": "ArzaHnEtawY1",
      "execution_count": null,
      "outputs": []
    },
    {
      "cell_type": "code",
      "source": [],
      "metadata": {
        "id": "QoEjCd0Rawfz"
      },
      "id": "QoEjCd0Rawfz",
      "execution_count": null,
      "outputs": []
    },
    {
      "cell_type": "code",
      "source": [],
      "metadata": {
        "id": "MYqeQxH7awm7"
      },
      "id": "MYqeQxH7awm7",
      "execution_count": null,
      "outputs": []
    },
    {
      "cell_type": "code",
      "source": [],
      "metadata": {
        "id": "YQPEkGwXawu6"
      },
      "id": "YQPEkGwXawu6",
      "execution_count": null,
      "outputs": []
    },
    {
      "cell_type": "code",
      "source": [],
      "metadata": {
        "id": "y0HvKymuaw1u"
      },
      "id": "y0HvKymuaw1u",
      "execution_count": null,
      "outputs": []
    },
    {
      "cell_type": "code",
      "source": [],
      "metadata": {
        "id": "iUHL7kk_aw7U"
      },
      "id": "iUHL7kk_aw7U",
      "execution_count": null,
      "outputs": []
    }
  ],
  "metadata": {
    "kernelspec": {
      "display_name": "Python 3 (ipykernel)",
      "language": "python",
      "name": "python3"
    },
    "language_info": {
      "codemirror_mode": {
        "name": "ipython",
        "version": 3
      },
      "file_extension": ".py",
      "mimetype": "text/x-python",
      "name": "python",
      "nbconvert_exporter": "python",
      "pygments_lexer": "ipython3",
      "version": "3.9.12"
    },
    "colab": {
      "provenance": []
    }
  },
  "nbformat": 4,
  "nbformat_minor": 5
}